{
 "cells": [
  {
   "cell_type": "code",
   "execution_count": 10,
   "metadata": {},
   "outputs": [
    {
     "name": "stdout",
     "output_type": "stream",
     "text": [
      "HF_TOKEN loaded: True\n"
     ]
    }
   ],
   "source": [
    "# Cell 1: Environment Setup and Imports\n",
    "import os\n",
    "from dotenv import load_dotenv\n",
    "\n",
    "# Load .env variables\n",
    "load_dotenv()\n",
    "HF_TOKEN = os.getenv(\"HF_TOKEN\")\n",
    "print(\"HF_TOKEN loaded:\", bool(HF_TOKEN))"
   ]
  },
  {
   "cell_type": "code",
   "execution_count": 11,
   "metadata": {},
   "outputs": [
    {
     "name": "stdout",
     "output_type": "stream",
     "text": [
      "Wikipedia tool ready: wikipedia\n",
      "Wikipedia test successful: Page: Python (programming language)\n",
      "Summary: Python is a high-level, general-purpose programming lan...\n"
     ]
    }
   ],
   "source": [
    "# Cell 2: Wikipedia Tool Setup\n",
    "from langchain_community.utilities import WikipediaAPIWrapper\n",
    "from langchain_community.tools import WikipediaQueryRun\n",
    "\n",
    "# Initialize Wikipedia API wrapper\n",
    "wiki_api = WikipediaAPIWrapper(top_k_results=1, doc_content_chars_max=150)\n",
    "wiki_tool = WikipediaQueryRun(api_wrapper=wiki_api)\n",
    "print(\"Wikipedia tool ready:\", wiki_tool.name)\n",
    "\n",
    "# Test Wikipedia tool\n",
    "try:\n",
    "    test_result = wiki_tool.run(\"Python programming language\")\n",
    "    print(\"Wikipedia test successful:\", test_result[:100] + \"...\")\n",
    "except Exception as e:\n",
    "    print(\"Wikipedia tool error:\", e)\n"
   ]
  },
  {
   "cell_type": "code",
   "execution_count": 12,
   "metadata": {},
   "outputs": [
    {
     "name": "stdout",
     "output_type": "stream",
     "text": [
      "Loading web page...\n",
      "Loaded 1 documents\n",
      "Created 10 chunks\n",
      "Initializing embeddings...\n",
      "Creating vector store...\n",
      "Web retriever setup complete\n"
     ]
    }
   ],
   "source": [
    "# Cell 3: Web Retriever Setup\n",
    "from langchain_community.document_loaders import WebBaseLoader\n",
    "from langchain_community.embeddings import HuggingFaceEmbeddings\n",
    "from langchain_community.vectorstores import FAISS\n",
    "from langchain.text_splitter import RecursiveCharacterTextSplitter\n",
    "\n",
    "try:\n",
    "    # Load web page\n",
    "    print(\"Loading web page...\")\n",
    "    loader = WebBaseLoader(\"https://docs.smith.langchain.com/\")\n",
    "    docs = loader.load()\n",
    "    print(f\"Loaded {len(docs)} documents\")\n",
    "    \n",
    "    # Very small chunks to avoid token limits\n",
    "    text_splitter = RecursiveCharacterTextSplitter(\n",
    "        chunk_size=200,  # Very small chunks\n",
    "        chunk_overlap=20\n",
    "    )\n",
    "    chunks = text_splitter.split_documents(docs)\n",
    "    print(f\"Created {len(chunks)} chunks\")\n",
    "    \n",
    "    # Initialize Hugging Face embeddings\n",
    "    print(\"Initializing embeddings...\")\n",
    "    embeddings = HuggingFaceEmbeddings(model_name=\"sentence-transformers/all-MiniLM-L6-v2\")\n",
    "    \n",
    "    # Create FAISS vector store with minimal chunks\n",
    "    print(\"Creating vector store...\")\n",
    "    vectordb = FAISS.from_documents(chunks[:5], embeddings)  # Only 5 chunks\n",
    "    retriever = vectordb.as_retriever()\n",
    "    \n",
    "    print(\"Web retriever setup complete\")\n",
    "    retriever_available = True\n",
    "    \n",
    "except Exception as e:\n",
    "    print(f\"Warning: Could not set up retriever: {e}\")\n",
    "    retriever_available = False\n"
   ]
  },
  {
   "cell_type": "code",
   "execution_count": 35,
   "metadata": {},
   "outputs": [
    {
     "name": "stdout",
     "output_type": "stream",
     "text": [
      "Retriever tool ready: langsmith_search\n"
     ]
    },
    {
     "name": "stderr",
     "output_type": "stream",
     "text": [
      "/var/folders/33/wqj9l4ps0c3_h_hpn0b5t8ym0000gn/T/ipykernel_973/2690438205.py:8: LangChainDeprecationWarning: The method `BaseRetriever.get_relevant_documents` was deprecated in langchain-core 0.1.46 and will be removed in 1.0. Use :meth:`~invoke` instead.\n",
      "  docs = retriever.get_relevant_documents(query)\n"
     ]
    },
    {
     "name": "stdout",
     "output_type": "stream",
     "text": [
      "Retriever test successful: started with LangSmithCopy pageCopy pageLangSmith is a platform for building production-grade LLM applications. Monitor and evaluate your application, so you can ship quickly and with confidence.\n",
      "\n",
      "Get...\n"
     ]
    }
   ],
   "source": [
    "# Cell 4: Create Retriever Tool (Fixed)\n",
    "from langchain.tools import Tool\n",
    "\n",
    "if retriever_available:\n",
    "    try:\n",
    "        def retriever_search(query: str) -> str:\n",
    "            \"\"\"Run retriever and return only plain text\"\"\"\n",
    "            docs = retriever.get_relevant_documents(query)\n",
    "            return \"\\n\\n\".join([doc.page_content for doc in docs])\n",
    "\n",
    "        retriever_tool = Tool(\n",
    "            name=\"langsmith_search\",\n",
    "            func=retriever_search,\n",
    "            description=\"Search for information about LangSmith. Returns text from docs.\"\n",
    "        )\n",
    "\n",
    "        print(\"Retriever tool ready:\", retriever_tool.name)\n",
    "        \n",
    "        # Test retriever tool\n",
    "        test_result = retriever_tool.run(\"What is LangSmith?\")\n",
    "        print(\"Retriever test successful:\", test_result[:200] + \"...\")\n",
    "        \n",
    "    except Exception as e:\n",
    "        print(f\"Warning: Could not create retriever tool: {e}\")\n",
    "        retriever_tool = None\n",
    "else:\n",
    "    retriever_tool = None\n",
    "    print(\"Retriever tool not available\")"
   ]
  },
  {
   "cell_type": "code",
   "execution_count": 36,
   "metadata": {},
   "outputs": [
    {
     "name": "stdout",
     "output_type": "stream",
     "text": [
      "Arxiv tool ready: arxiv\n",
      "Arxiv test successful: Published: 2019-09-08\n",
      "Title: Lecture Notes: Optimization for Machine Learning\n",
      "Authors: Elad Hazan\n",
      "Su...\n"
     ]
    }
   ],
   "source": [
    "# Cell 5: Arxiv Tool Setup\n",
    "from langchain_community.utilities import ArxivAPIWrapper\n",
    "from langchain_community.tools import ArxivQueryRun\n",
    "\n",
    "try:\n",
    "    arxiv_wrapper = ArxivAPIWrapper(top_k_results=1, doc_content_chars_max=150)\n",
    "    arxiv_tool = ArxivQueryRun(api_wrapper=arxiv_wrapper)\n",
    "    print(\"Arxiv tool ready:\", arxiv_tool.name)\n",
    "    \n",
    "    # Test Arxiv tool\n",
    "    test_result = arxiv_tool.run(\"machine learning\")\n",
    "    print(\"Arxiv test successful:\", test_result[:100] + \"...\")\n",
    "    \n",
    "except Exception as e:\n",
    "    print(f\"Warning: Could not set up arxiv tool: {e}\")\n",
    "    arxiv_tool = None\n"
   ]
  },
  {
   "cell_type": "code",
   "execution_count": 37,
   "metadata": {},
   "outputs": [
    {
     "name": "stdout",
     "output_type": "stream",
     "text": [
      "Initializing language model...\n"
     ]
    },
    {
     "name": "stderr",
     "output_type": "stream",
     "text": [
      "Device set to use cpu\n"
     ]
    },
    {
     "name": "stdout",
     "output_type": "stream",
     "text": [
      "LLM initialized successfully\n",
      "LLM test successful: Artificial Intelligence (AI) is the development of artificial intelligence (AI) technology....\n"
     ]
    }
   ],
   "source": [
    "# ✅ Cell 6: LLM Setup (Fixed Version)\n",
    "from langchain_community.llms import HuggingFacePipeline\n",
    "from transformers import pipeline\n",
    "\n",
    "try:\n",
    "    print(\"Initializing language model...\")\n",
    "    \n",
    "    # ✅ Removed return_full_text (not valid here)\n",
    "    hf_pipe = pipeline(\n",
    "    \"text2text-generation\",\n",
    "    model=\"google/flan-t5-base\",\n",
    "    device=-1,  # CPU only\n",
    "    max_length=512   # ✅ avoid sequence too long errors\n",
    "    )\n",
    "    \n",
    "    # ✅ Keep only valid model_kwargs\n",
    "    llm = HuggingFacePipeline(\n",
    "        pipeline=hf_pipe,\n",
    "        model_kwargs={\n",
    "            \"max_length\": 200,\n",
    "            \"temperature\": 0.7,\n",
    "            \"do_sample\": True\n",
    "        }\n",
    "    )\n",
    "    print(\"LLM initialized successfully\")\n",
    "    \n",
    "    # ✅ Test LLM\n",
    "    test_response = llm.invoke(\"What is artificial intelligence?\")\n",
    "    print(\"LLM test successful:\", test_response[:200] + \"...\")\n",
    "    \n",
    "except Exception as e:\n",
    "    print(f\"Error initializing LLM: {e}\")\n",
    "    # Fallback to a dummy LLM\n",
    "    from langchain_community.llms.fake import FakeListLLM\n",
    "    llm = FakeListLLM(responses=[\n",
    "        \"I'm a simplified language model. I can help with basic queries.\",\n",
    "        \"Please try rephrasing your question.\",\n",
    "        \"I'm processing your request...\"\n",
    "    ])\n",
    "    print(\"Using fallback LLM\")"
   ]
  },
  {
   "cell_type": "code",
   "execution_count": 38,
   "metadata": {},
   "outputs": [
    {
     "name": "stdout",
     "output_type": "stream",
     "text": [
      "Available tools: ['wikipedia', 'arxiv', 'langsmith_search']\n",
      "Creating agent...\n",
      "Agent created successfully\n"
     ]
    }
   ],
   "source": [
    "# Cell 7: Agent Setup\n",
    "from langchain import hub\n",
    "from langchain.agents import initialize_agent, AgentType, AgentExecutor\n",
    "\n",
    "# Collect available tools\n",
    "available_tools = []\n",
    "if 'wiki_tool' in locals() and wiki_tool:\n",
    "    available_tools.append(wiki_tool)\n",
    "if 'arxiv_tool' in locals() and arxiv_tool:\n",
    "    available_tools.append(arxiv_tool)\n",
    "if 'retriever_tool' in locals() and retriever_tool:\n",
    "    available_tools.append(retriever_tool)\n",
    "\n",
    "print(f\"Available tools: {[tool.name for tool in available_tools]}\")\n",
    "\n",
    "if available_tools:\n",
    "    try:\n",
    "        print(\"Creating agent...\")\n",
    "        \n",
    "        # Use standard ReAct prompt\n",
    "        prompt = hub.pull(\"hwchase17/react\")\n",
    "        \n",
    "        agent = create_react_agent(\n",
    "            llm=llm,\n",
    "            tools=available_tools,\n",
    "            prompt=prompt\n",
    "        )\n",
    "        \n",
    "        agent_executor = initialize_agent(\n",
    "        tools=available_tools,\n",
    "        llm=llm,\n",
    "        agent=AgentType.ZERO_SHOT_REACT_DESCRIPTION,  # ✅ simpler agent type\n",
    "        verbose=True,\n",
    "        handle_parsing_errors=True,\n",
    "        max_iterations=2,\n",
    "        max_execution_time=30,\n",
    "        )\n",
    "        \n",
    "        print(\"Agent created successfully\")\n",
    "        agent_available = True\n",
    "        \n",
    "    except Exception as e:\n",
    "        print(f\"Could not create agent: {e}\")\n",
    "        agent_available = False\n",
    "else:\n",
    "    print(\"No tools available for agent\")\n",
    "    agent_available = False\n"
   ]
  },
  {
   "cell_type": "code",
   "execution_count": 39,
   "metadata": {},
   "outputs": [],
   "source": [
    "# Cell 8: Query Functions\n",
    "def simple_query(question):\n",
    "    \"\"\"Simple query function with extensive error handling\"\"\"\n",
    "    print(f\"\\n{'='*60}\")\n",
    "    print(f\"Query: {question}\")\n",
    "    print('='*60)\n",
    "    \n",
    "    if not agent_available:\n",
    "        return \"Agent not available. Please check the setup.\"\n",
    "    \n",
    "    try:\n",
    "        response = agent_executor.invoke({\"input\": question})\n",
    "        return response.get('output', 'No response generated')\n",
    "    \n",
    "    except Exception as e:\n",
    "        error_msg = str(e)\n",
    "        print(f\"Agent query failed: {error_msg[:200]}\")\n",
    "        \n",
    "        # Try direct tool usage as fallback\n",
    "        print(\"Trying direct tool fallback...\")\n",
    "        \n",
    "        if \"langsmith\" in question.lower() and retriever_tool:\n",
    "            try:\n",
    "                result = retriever_tool.run(question)\n",
    "                return f\"(Via retriever tool) {result}\"\n",
    "            except Exception as tool_error:\n",
    "                print(f\"Retriever tool failed: {tool_error}\")\n",
    "                \n",
    "        if wiki_tool and any(word in question.lower() for word in ['who is', 'what is', 'tell me about']):\n",
    "            try:\n",
    "                result = wiki_tool.run(question)\n",
    "                return f\"(Via Wikipedia) {result}\"\n",
    "            except Exception as tool_error:\n",
    "                print(f\"Wikipedia tool failed: {tool_error}\")\n",
    "        \n",
    "        return f\"Query failed: {error_msg[:100]}...\"\n",
    "\n",
    "def test_individual_tools():\n",
    "    \"\"\"Test each tool individually\"\"\"\n",
    "    print(\"\\n\" + \"=\"*60)\n",
    "    print(\"TESTING INDIVIDUAL TOOLS\")\n",
    "    print(\"=\"*60)\n",
    "    \n",
    "    # Test Wikipedia\n",
    "    if wiki_tool:\n",
    "        try:\n",
    "            result = wiki_tool.run(\"Machine Learning\")\n",
    "            print(\"✅ Wikipedia tool working:\", result[:100] + \"...\")\n",
    "        except Exception as e:\n",
    "            print(\"❌ Wikipedia tool failed:\", e)\n",
    "    \n",
    "    # Test Arxiv\n",
    "    if arxiv_tool:\n",
    "        try:\n",
    "            result = arxiv_tool.run(\"transformer model\")\n",
    "            print(\"✅ Arxiv tool working:\", result[:100] + \"...\")\n",
    "        except Exception as e:\n",
    "            print(\"❌ Arxiv tool failed:\", e)\n",
    "    \n",
    "    # Test Retriever\n",
    "    if retriever_tool:\n",
    "        try:\n",
    "            result = retriever_tool.run(\"LangSmith features\")\n",
    "            print(\"✅ Retriever tool working:\", result[:100] + \"...\")\n",
    "        except Exception as e:\n",
    "            print(\"❌ Retriever tool failed:\", e)\n"
   ]
  },
  {
   "cell_type": "code",
   "execution_count": 40,
   "metadata": {},
   "outputs": [
    {
     "name": "stdout",
     "output_type": "stream",
     "text": [
      "============================================================\n",
      "RAG AGENT SETUP COMPLETE\n",
      "============================================================\n",
      "\n",
      "============================================================\n",
      "TESTING INDIVIDUAL TOOLS\n",
      "============================================================\n",
      "✅ Wikipedia tool working: Page: Machine learning\n",
      "Summary: Machine learning (ML) is a field of study in artificial intelligence...\n",
      "✅ Arxiv tool working: Published: 2012-10-23\n",
      "Title: Model Validation in Ontology Based Transformations\n",
      "Authors: Jesús M. Al...\n",
      "✅ Retriever tool working: Get started with LangSmith - Docs by LangChainOur new LangChain Academy course on Deep Agents is now...\n",
      "\n",
      "============================================================\n",
      "TESTING AGENT QUERIES\n",
      "============================================================\n",
      "\n",
      "============================================================\n",
      "Query: What is machine learning?\n",
      "============================================================\n",
      "\n",
      "\n",
      "\u001b[1m> Entering new AgentExecutor chain...\u001b[0m\n",
      "\u001b[32;1m\u001b[1;3mMachine learning is a type of computer science.\u001b[0m\n",
      "Observation: Invalid Format: Missing 'Action:' after 'Thought:\n",
      "Thought:\u001b[32;1m\u001b[1;3mMachine learning is a type of computer science.\u001b[0m\n",
      "Observation: Invalid Format: Missing 'Action:' after 'Thought:\n",
      "Thought:\u001b[32;1m\u001b[1;3m\u001b[0m\n",
      "\n",
      "\u001b[1m> Finished chain.\u001b[0m\n",
      "Result: Agent stopped due to iteration limit or time limit.\n",
      "\n",
      "\n",
      "============================================================\n",
      "Query: Tell me about LangSmith\n",
      "============================================================\n",
      "\n",
      "\n",
      "\u001b[1m> Entering new AgentExecutor chain...\u001b[0m\n",
      "\u001b[32;1m\u001b[1;3mLangSmith is a fictional character in the science fiction television series LangSmith. LangSmith is a fictional character in the science fiction television series LangSmith. LangSmith is a fictional character in the science fiction television series LangSmith.\u001b[0m\n",
      "Observation: Invalid Format: Missing 'Action:' after 'Thought:\n",
      "Thought:\u001b[32;1m\u001b[1;3mLangSmith is a fictional character in the science fiction television series LangSmith. LangSmith is a fictional character in the science fiction television series LangSmith.\u001b[0m\n",
      "Observation: Invalid Format: Missing 'Action:' after 'Thought:\n",
      "Thought:\u001b[32;1m\u001b[1;3m\u001b[0m\n",
      "\n",
      "\u001b[1m> Finished chain.\u001b[0m\n",
      "Result: Agent stopped due to iteration limit or time limit.\n",
      "\n",
      "\n",
      "============================================================\n",
      "Query: Who is Albert Einstein?\n",
      "============================================================\n",
      "\n",
      "\n",
      "\u001b[1m> Entering new AgentExecutor chain...\u001b[0m\n",
      "\u001b[32;1m\u001b[1;3mAlbert Einstein is a famous physicist.\u001b[0m\n",
      "Observation: Invalid Format: Missing 'Action:' after 'Thought:\n",
      "Thought:\u001b[32;1m\u001b[1;3mAlbert Einstein is a famous physicist.\u001b[0m\n",
      "Observation: Invalid Format: Missing 'Action:' after 'Thought:\n",
      "Thought:\u001b[32;1m\u001b[1;3m\u001b[0m\n",
      "\n",
      "\u001b[1m> Finished chain.\u001b[0m\n",
      "Result: Agent stopped due to iteration limit or time limit.\n",
      "\n",
      "Setup and testing complete!\n"
     ]
    }
   ],
   "source": [
    "# Cell 9: Test Queries\n",
    "print(\"=\"*60)\n",
    "print(\"RAG AGENT SETUP COMPLETE\")\n",
    "print(\"=\"*60)\n",
    "\n",
    "# Test individual tools first\n",
    "test_individual_tools()\n",
    "\n",
    "# Test agent queries\n",
    "if agent_available:\n",
    "    print(\"\\n\" + \"=\"*60)\n",
    "    print(\"TESTING AGENT QUERIES\")\n",
    "    print(\"=\"*60)\n",
    "    \n",
    "    test_queries = [\n",
    "        \"What is machine learning?\",\n",
    "        \"Tell me about LangSmith\",\n",
    "        \"Who is Albert Einstein?\"\n",
    "    ]\n",
    "    \n",
    "    for query in test_queries:\n",
    "        try:\n",
    "            result = simple_query(query)\n",
    "            print(f\"Result: {result}\\n\")\n",
    "        except Exception as e:\n",
    "            print(f\"Query failed: {e}\\n\")\n",
    "else:\n",
    "    print(\"\\n❌ Agent not available. Only individual tool testing completed.\")\n",
    "\n",
    "print(\"Setup and testing complete!\")\n"
   ]
  },
  {
   "cell_type": "code",
   "execution_count": 41,
   "metadata": {},
   "outputs": [],
   "source": [
    "# Cell 10: Interactive Query Cell (Optional)\n",
    "# Run this cell to ask custom questions\n",
    "def ask_question(question):\n",
    "    \"\"\"Interactive query function\"\"\"\n",
    "    if agent_available:\n",
    "        return simple_query(question)\n",
    "    else:\n",
    "        print(\"Agent not available. Trying individual tools...\")\n",
    "        \n",
    "        # Try tools directly\n",
    "        if wiki_tool and any(word in question.lower() for word in ['who', 'what', 'tell me']):\n",
    "            try:\n",
    "                return f\"(Wikipedia) {wiki_tool.run(question)}\"\n",
    "            except:\n",
    "                pass\n",
    "        \n",
    "        if arxiv_tool and any(word in question.lower() for word in ['paper', 'research', 'study']):\n",
    "            try:\n",
    "                return f\"(Arxiv) {arxiv_tool.run(question)}\"\n",
    "            except:\n",
    "                pass\n",
    "        \n",
    "        if retriever_tool and 'langsmith' in question.lower():\n",
    "            try:\n",
    "                return f\"(Retriever) {retriever_tool.run(question)}\"\n",
    "            except:\n",
    "                pass\n",
    "        \n",
    "        return \"No suitable tool found for this question.\"\n"
   ]
  },
  {
   "cell_type": "code",
   "execution_count": 42,
   "metadata": {},
   "outputs": [
    {
     "name": "stdout",
     "output_type": "stream",
     "text": [
      "\n",
      "============================================================\n",
      "Query: Tell me about Langsmith\n",
      "============================================================\n",
      "\n",
      "\n",
      "\u001b[1m> Entering new AgentExecutor chain...\u001b[0m\n",
      "\u001b[32;1m\u001b[1;3mLangsmith is a fictional character in the science fiction television series LangSmith. Langsmith is a fictional character in the science fiction television series LangSmith.\u001b[0m\n",
      "Observation: Invalid Format: Missing 'Action:' after 'Thought:\n",
      "Thought:\u001b[32;1m\u001b[1;3mLangsmith is a fictional character in the science fiction television series LangSmith. Langsmith is a fictional character in the science fiction television series LangSmith.\u001b[0m\n",
      "Observation: Invalid Format: Missing 'Action:' after 'Thought:\n",
      "Thought:\u001b[32;1m\u001b[1;3m\u001b[0m\n",
      "\n",
      "\u001b[1m> Finished chain.\u001b[0m\n",
      "Agent stopped due to iteration limit or time limit.\n"
     ]
    }
   ],
   "source": [
    "result = ask_question(\"Tell me about Langsmith\")\n",
    "print(result)"
   ]
  },
  {
   "cell_type": "code",
   "execution_count": 43,
   "metadata": {},
   "outputs": [
    {
     "name": "stdout",
     "output_type": "stream",
     "text": [
      "\n",
      "============================================================\n",
      "Query: What's the paper 1605.08386 about?\n",
      "============================================================\n",
      "\n",
      "\n",
      "\u001b[1m> Entering new AgentExecutor chain...\u001b[0m\n",
      "\u001b[32;1m\u001b[1;3mThe paper 1605.08386 is about a scientist.\u001b[0m\n",
      "Observation: Invalid Format: Missing 'Action:' after 'Thought:\n",
      "Thought:\u001b[32;1m\u001b[1;3mThe paper 1605.08386 is about a scientist.\u001b[0m\n",
      "Observation: Invalid Format: Missing 'Action:' after 'Thought:\n",
      "Thought:\u001b[32;1m\u001b[1;3m\u001b[0m\n",
      "\n",
      "\u001b[1m> Finished chain.\u001b[0m\n",
      "Agent stopped due to iteration limit or time limit.\n"
     ]
    }
   ],
   "source": [
    "result = ask_question(\"What's the paper 1605.08386 about?\")\n",
    "print(result)"
   ]
  },
  {
   "cell_type": "code",
   "execution_count": null,
   "metadata": {},
   "outputs": [],
   "source": []
  }
 ],
 "metadata": {
  "kernelspec": {
   "display_name": "env (3.12.4)",
   "language": "python",
   "name": "python3"
  },
  "language_info": {
   "codemirror_mode": {
    "name": "ipython",
    "version": 3
   },
   "file_extension": ".py",
   "mimetype": "text/x-python",
   "name": "python",
   "nbconvert_exporter": "python",
   "pygments_lexer": "ipython3",
   "version": "3.12.4"
  }
 },
 "nbformat": 4,
 "nbformat_minor": 2
}
